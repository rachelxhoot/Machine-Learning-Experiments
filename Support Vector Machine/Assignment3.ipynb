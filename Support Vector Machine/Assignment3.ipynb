{
 "cells": [
  {
   "cell_type": "markdown",
   "metadata": {},
   "source": [
    "# 第三题：支持向量机的分类任务\n",
    "\n",
    "实验内容：\n",
    "1. 使用支持向量机完成spambase垃圾邮件分类任务\n",
    "2. 使用训练集训练模型，计算测试集的精度，查准率，查全率，F1值"
   ]
  },
  {
   "cell_type": "markdown",
   "metadata": {},
   "source": [
    "## 请你使用SVC，完成spambase分类任务\n",
    "\n",
    "要求：使用全部特征，完成以下内容的填写\n",
    "\n",
    "###### 双击此处填写\n",
    "\n",
    "核函数 | C | 精度 | 查准率 | 查全率 | F1\n",
    "|- | - | - | - | - | -\n",
    "rbf | 0.1 |0.6987690079652426| 0.6462765957446809| 0.4619771863117871| 0.5388026607538803\n",
    "rbf | 1 | 0.7154236060825488| 0.6727272727272727| 0.4923954372623574| 0.5686059275521405\n",
    "linear | 0.1 | 0.8957277335264301 |0.8715953307392996| 0.8517110266159695 |0.8615384615384615\n",
    "linear | 1 | 0.6495293265749457| 0.8888888888888888| 0.09125475285171103| 0.16551724137931034\n",
    "sigmoid | 0.1 | 0.6335988414192614| 0.5185873605947955 |0.5304182509505704| 0.5244360902255639\n",
    "sigmoid | 1 | 0.6343229543808834| 0.5192660550458715| 0.5380228136882129| 0.5284780578898226"
   ]
  },
  {
   "cell_type": "code",
   "execution_count": 11,
   "metadata": {},
   "outputs": [],
   "source": [
    "# 导入数据\n",
    "import numpy as np\n",
    "data = np.loadtxt('data/spambase/spambase.data', delimiter = \",\")\n",
    "spamx = data[:, :57]\n",
    "spamy = data[:, 57]"
   ]
  },
  {
   "cell_type": "code",
   "execution_count": 12,
   "metadata": {},
   "outputs": [
    {
     "data": {
      "text/plain": [
       "((3220, 57), (3220,), (1381, 57), (1381,))"
      ]
     },
     "execution_count": 12,
     "metadata": {},
     "output_type": "execute_result"
    }
   ],
   "source": [
    "# 数据集分割\n",
    "from sklearn.model_selection import train_test_split\n",
    "trainX, testX, trainY, testY = train_test_split(spamx, spamy, test_size = 0.3, random_state = 32)\n",
    "trainX.shape, trainY.shape, testX.shape, testY.shape"
   ]
  },
  {
   "cell_type": "markdown",
   "metadata": {},
   "source": [
    "**注意：计算线性核的时候，要使用 LinearSVC 这个类，不要使用SVC(kernel = 'linear')。LinearSVC不需要设置kernel参数！**"
   ]
  },
  {
   "cell_type": "code",
   "execution_count": 13,
   "metadata": {},
   "outputs": [],
   "source": [
    "# 引入模型\n",
    "from sklearn.svm import SVC\n",
    "from sklearn.svm import LinearSVC"
   ]
  },
  {
   "cell_type": "code",
   "execution_count": 14,
   "metadata": {},
   "outputs": [],
   "source": [
    "from sklearn.metrics import accuracy_score,precision_score,recall_score,f1_score"
   ]
  },
  {
   "cell_type": "markdown",
   "metadata": {},
   "source": [
    "### rbf"
   ]
  },
  {
   "cell_type": "code",
   "execution_count": 15,
   "metadata": {},
   "outputs": [
    {
     "name": "stdout",
     "output_type": "stream",
     "text": [
      "rbf, C=0.1\n",
      "0.6987690079652426 0.6462765957446809 0.4619771863117871 0.5388026607538803\n"
     ]
    }
   ],
   "source": [
    "# C= 0.1\n",
    "clf = SVC(kernel='rbf', C=0.1, random_state = 32)\n",
    "clf.fit(trainX,trainY)\n",
    "prediction = clf.predict(testX)\n",
    "\n",
    "acc = accuracy_score(testY, prediction)\n",
    "pre = precision_score(testY, prediction)\n",
    "rec = recall_score(testY, prediction)\n",
    "f1 = f1_score(testY, prediction)\n",
    "print('rbf, C=0.1')\n",
    "print(acc,pre,rec,f1)"
   ]
  },
  {
   "cell_type": "code",
   "execution_count": 16,
   "metadata": {},
   "outputs": [
    {
     "name": "stdout",
     "output_type": "stream",
     "text": [
      "rbf, C=1\n",
      "0.7154236060825488 0.6727272727272727 0.4923954372623574 0.5686059275521405\n"
     ]
    }
   ],
   "source": [
    "# C= 1\n",
    "clf = SVC(kernel='rbf', C=1, random_state = 32)\n",
    "clf.fit(trainX,trainY)\n",
    "prediction = clf.predict(testX)\n",
    "\n",
    "acc = accuracy_score(testY, prediction)\n",
    "pre = precision_score(testY, prediction)\n",
    "rec = recall_score(testY, prediction)\n",
    "f1 = f1_score(testY, prediction)\n",
    "print('rbf, C=1')\n",
    "print(acc,pre,rec,f1)"
   ]
  },
  {
   "cell_type": "markdown",
   "metadata": {},
   "source": [
    "### linear"
   ]
  },
  {
   "cell_type": "code",
   "execution_count": 17,
   "metadata": {},
   "outputs": [
    {
     "name": "stdout",
     "output_type": "stream",
     "text": [
      "linear, C=0.1\n",
      "0.8957277335264301 0.8715953307392996 0.8517110266159695 0.8615384615384615\n"
     ]
    },
    {
     "name": "stderr",
     "output_type": "stream",
     "text": [
      "D:\\Anaconda\\lib\\site-packages\\sklearn\\svm\\_base.py:985: ConvergenceWarning: Liblinear failed to converge, increase the number of iterations.\n",
      "  warnings.warn(\"Liblinear failed to converge, increase \"\n"
     ]
    }
   ],
   "source": [
    "# C= 0.1\n",
    "clf = LinearSVC(C=0.1, random_state = 32)\n",
    "clf.fit(trainX,trainY)\n",
    "prediction = clf.predict(testX)\n",
    "\n",
    "acc = accuracy_score(testY, prediction)\n",
    "pre = precision_score(testY, prediction)\n",
    "rec = recall_score(testY, prediction)\n",
    "f1 = f1_score(testY, prediction)\n",
    "print('linear, C=0.1')\n",
    "print(acc,pre,rec,f1)"
   ]
  },
  {
   "cell_type": "code",
   "execution_count": 18,
   "metadata": {},
   "outputs": [
    {
     "name": "stdout",
     "output_type": "stream",
     "text": [
      "linear, C=1\n",
      "0.6495293265749457 0.8888888888888888 0.09125475285171103 0.16551724137931034\n"
     ]
    },
    {
     "name": "stderr",
     "output_type": "stream",
     "text": [
      "D:\\Anaconda\\lib\\site-packages\\sklearn\\svm\\_base.py:985: ConvergenceWarning: Liblinear failed to converge, increase the number of iterations.\n",
      "  warnings.warn(\"Liblinear failed to converge, increase \"\n"
     ]
    }
   ],
   "source": [
    "# C= 1\n",
    "clf = LinearSVC(C=1, random_state = 32)\n",
    "clf.fit(trainX,trainY)\n",
    "prediction = clf.predict(testX)\n",
    "\n",
    "acc = accuracy_score(testY, prediction)\n",
    "pre = precision_score(testY, prediction)\n",
    "rec = recall_score(testY, prediction)\n",
    "f1 = f1_score(testY, prediction)\n",
    "print('linear, C=1')\n",
    "print(acc,pre,rec,f1)"
   ]
  },
  {
   "cell_type": "markdown",
   "metadata": {},
   "source": [
    "### sigmoid"
   ]
  },
  {
   "cell_type": "code",
   "execution_count": 19,
   "metadata": {},
   "outputs": [
    {
     "name": "stdout",
     "output_type": "stream",
     "text": [
      "sigmoid, C=0.1\n",
      "0.6335988414192614 0.5185873605947955 0.5304182509505704 0.5244360902255639\n"
     ]
    }
   ],
   "source": [
    "# C= 0.1\n",
    "clf = SVC(kernel='sigmoid', C=0.1, random_state = 32)\n",
    "clf.fit(trainX,trainY)\n",
    "prediction = clf.predict(testX)\n",
    "\n",
    "acc = accuracy_score(testY, prediction)\n",
    "pre = precision_score(testY, prediction)\n",
    "rec = recall_score(testY, prediction)\n",
    "f1 = f1_score(testY, prediction)\n",
    "print('sigmoid, C=0.1')\n",
    "print(acc,pre,rec,f1)"
   ]
  },
  {
   "cell_type": "code",
   "execution_count": 20,
   "metadata": {},
   "outputs": [
    {
     "name": "stdout",
     "output_type": "stream",
     "text": [
      "sigmoid, C=1\n",
      "0.6343229543808834 0.5192660550458715 0.5380228136882129 0.5284780578898226\n"
     ]
    }
   ],
   "source": [
    "# C= 1\n",
    "clf = SVC(kernel='sigmoid', C=1, random_state = 32)\n",
    "clf.fit(trainX,trainY)\n",
    "prediction = clf.predict(testX)\n",
    "\n",
    "acc = accuracy_score(testY, prediction)\n",
    "pre = precision_score(testY, prediction)\n",
    "rec = recall_score(testY, prediction)\n",
    "f1 = f1_score(testY, prediction)\n",
    "print('sigmoid, C=1')\n",
    "print(acc,pre,rec,f1)"
   ]
  }
 ],
 "metadata": {
  "kernelspec": {
   "display_name": "Python 3",
   "language": "python",
   "name": "python3"
  },
  "language_info": {
   "codemirror_mode": {
    "name": "ipython",
    "version": 3
   },
   "file_extension": ".py",
   "mimetype": "text/x-python",
   "name": "python",
   "nbconvert_exporter": "python",
   "pygments_lexer": "ipython3",
   "version": "3.8.11"
  }
 },
 "nbformat": 4,
 "nbformat_minor": 2
}
