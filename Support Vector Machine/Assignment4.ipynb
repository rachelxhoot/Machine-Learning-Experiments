{
 "cells": [
  {
   "cell_type": "markdown",
   "metadata": {},
   "source": [
    "# 第四题：支持向量机的回归任务\n",
    "\n",
    "实验内容：\n",
    "1. 使用支持向量机完成kaggle房价预测问题\n",
    "2. 使用训练集训练模型，计算测试集的MAE和RMSE"
   ]
  },
  {
   "cell_type": "markdown",
   "metadata": {},
   "source": [
    "## 请你使用SVR，完成kaggle房价预测问题\n",
    "\n",
    "要求：使用'LotArea', 'BsmtUnfSF', 'GarageArea'作为特征，完成以下内容的填写\n",
    "\n",
    "###### 双击此处填写\n",
    "\n",
    "核函数 | C | MAE | RMSE\n",
    "|- | - | - | - \n",
    "rbf | 0.1 |56512.85964154162|79837.50736818257\n",
    "rbf | 1 | 56500.99367569018|79823.68778033114\n",
    "linear | 0.1 | 45147.788837358356|72149.06961023064\n",
    "linear | 1 | 46087.21040849418|84532.80152758752\n",
    "sigmoid | 0.1 | 56514.06716440402| 79839.05515865251\n",
    "sigmoid | 1 | 56513.06822444484|79839.25663118417"
   ]
  },
  {
   "cell_type": "code",
   "execution_count": 1,
   "metadata": {},
   "outputs": [],
   "source": [
    "import numpy as np\n",
    "import pandas as pd\n",
    "\n",
    "# 读取数据\n",
    "data = pd.read_csv('data/kaggle_house_price_prediction/kaggle_hourse_price_train.csv')\n",
    "\n",
    "# 使用这3列作为特征\n",
    "features = ['LotArea', 'BsmtUnfSF', 'GarageArea']\n",
    "target = 'SalePrice'\n",
    "data = data[features + [target]]"
   ]
  },
  {
   "cell_type": "code",
   "execution_count": 2,
   "metadata": {},
   "outputs": [
    {
     "data": {
      "text/plain": [
       "((1022, 3), (1022,), (438, 3), (438,))"
      ]
     },
     "execution_count": 2,
     "metadata": {},
     "output_type": "execute_result"
    }
   ],
   "source": [
    "# 数据集分割\n",
    "from sklearn.model_selection import train_test_split\n",
    "trainX, testX, trainY, testY = train_test_split(data[features], data[target], test_size = 0.3, random_state = 32)\n",
    "trainX.shape, trainY.shape, testX.shape, testY.shape"
   ]
  },
  {
   "cell_type": "markdown",
   "metadata": {},
   "source": [
    "**注意：计算线性核的时候，要使用 LinearSVR 这个类，不要使用SVR(kernel = 'linear')。LinearSVR不需要设置kernel参数！**"
   ]
  },
  {
   "cell_type": "code",
   "execution_count": 3,
   "metadata": {},
   "outputs": [],
   "source": [
    "# 引入模型\n",
    "from sklearn.svm import SVR\n",
    "from sklearn.svm import LinearSVR"
   ]
  },
  {
   "cell_type": "code",
   "execution_count": 4,
   "metadata": {},
   "outputs": [],
   "source": [
    "# YOUR CODE HERE\n",
    "from sklearn.metrics import mean_absolute_error\n",
    "from sklearn.metrics import mean_squared_error"
   ]
  },
  {
   "cell_type": "markdown",
   "metadata": {},
   "source": [
    "### rbf"
   ]
  },
  {
   "cell_type": "code",
   "execution_count": 6,
   "metadata": {},
   "outputs": [
    {
     "name": "stdout",
     "output_type": "stream",
     "text": [
      "rbf C=0.1\n",
      "mae: 56512.85964154162\n",
      "rmse 79837.50736818257\n"
     ]
    }
   ],
   "source": [
    "# C=0.1\n",
    "model=SVR(kernel='rbf',C=0.1)\n",
    "model.fit(trainX,trainY)\n",
    "\n",
    "prediction=model.predict(testX)\n",
    "\n",
    "print('rbf C=0.1')\n",
    "print('mae:', mean_absolute_error(testY,prediction))\n",
    "print('rmse', mean_squared_error(testY,prediction)**0.5)"
   ]
  },
  {
   "cell_type": "code",
   "execution_count": 7,
   "metadata": {},
   "outputs": [
    {
     "name": "stdout",
     "output_type": "stream",
     "text": [
      "rbf C=1\n",
      "mae: 56500.99367569018\n",
      "rmse 79823.68778033114\n"
     ]
    }
   ],
   "source": [
    "# C=1\n",
    "model=SVR(kernel='rbf',C=1)\n",
    "model.fit(trainX,trainY)\n",
    "\n",
    "prediction=model.predict(testX)\n",
    "\n",
    "print('rbf C=1')\n",
    "print('mae:', mean_absolute_error(testY,prediction))\n",
    "print('rmse', mean_squared_error(testY,prediction)**0.5)"
   ]
  },
  {
   "cell_type": "markdown",
   "metadata": {},
   "source": [
    "### linear"
   ]
  },
  {
   "cell_type": "code",
   "execution_count": 8,
   "metadata": {},
   "outputs": [
    {
     "name": "stdout",
     "output_type": "stream",
     "text": [
      "linear C=0.1\n",
      "mae: 45147.788837358356\n",
      "rmse 72149.06961023064\n"
     ]
    },
    {
     "name": "stderr",
     "output_type": "stream",
     "text": [
      "D:\\Anaconda\\lib\\site-packages\\sklearn\\svm\\_base.py:985: ConvergenceWarning: Liblinear failed to converge, increase the number of iterations.\n",
      "  warnings.warn(\"Liblinear failed to converge, increase \"\n"
     ]
    }
   ],
   "source": [
    "# C=0.1\n",
    "model=LinearSVR(C=0.1)\n",
    "model.fit(trainX,trainY)\n",
    "\n",
    "prediction=model.predict(testX)\n",
    "\n",
    "print('linear C=0.1')\n",
    "print('mae:', mean_absolute_error(testY,prediction))\n",
    "print('rmse', mean_squared_error(testY,prediction)**0.5)"
   ]
  },
  {
   "cell_type": "code",
   "execution_count": 9,
   "metadata": {},
   "outputs": [
    {
     "name": "stdout",
     "output_type": "stream",
     "text": [
      "linear C=1\n",
      "mae: 46087.21040849418\n",
      "rmse 84532.80152758752\n"
     ]
    },
    {
     "name": "stderr",
     "output_type": "stream",
     "text": [
      "D:\\Anaconda\\lib\\site-packages\\sklearn\\svm\\_base.py:985: ConvergenceWarning: Liblinear failed to converge, increase the number of iterations.\n",
      "  warnings.warn(\"Liblinear failed to converge, increase \"\n"
     ]
    }
   ],
   "source": [
    "# C=1\n",
    "model=LinearSVR(C=1)\n",
    "model.fit(trainX,trainY)\n",
    "\n",
    "prediction=model.predict(testX)\n",
    "\n",
    "print('linear C=1')\n",
    "print('mae:', mean_absolute_error(testY,prediction))\n",
    "print('rmse', mean_squared_error(testY,prediction)**0.5)"
   ]
  },
  {
   "cell_type": "markdown",
   "metadata": {},
   "source": [
    "### sigmoid"
   ]
  },
  {
   "cell_type": "code",
   "execution_count": 10,
   "metadata": {},
   "outputs": [
    {
     "name": "stdout",
     "output_type": "stream",
     "text": [
      "sigmoid C=0.1\n",
      "mae: 56514.06716440402\n",
      "rmse 79839.05515865251\n"
     ]
    }
   ],
   "source": [
    "# C=0.1\n",
    "model=SVR(kernel='sigmoid',C=0.1)\n",
    "model.fit(trainX,trainY)\n",
    "\n",
    "prediction=model.predict(testX)\n",
    "\n",
    "print('sigmoid C=0.1')\n",
    "print('mae:', mean_absolute_error(testY,prediction))\n",
    "print('rmse', mean_squared_error(testY,prediction)**0.5)"
   ]
  },
  {
   "cell_type": "code",
   "execution_count": 11,
   "metadata": {},
   "outputs": [
    {
     "name": "stdout",
     "output_type": "stream",
     "text": [
      "sigmoid C=1\n",
      "mae: 56513.06822444484\n",
      "rmse 79839.25663118417\n"
     ]
    }
   ],
   "source": [
    "# C=1\n",
    "model=SVR(kernel='sigmoid',C=1)\n",
    "model.fit(trainX,trainY)\n",
    "\n",
    "prediction=model.predict(testX)\n",
    "\n",
    "print('sigmoid C=1')\n",
    "print('mae:', mean_absolute_error(testY,prediction))\n",
    "print('rmse', mean_squared_error(testY,prediction)**0.5)"
   ]
  }
 ],
 "metadata": {
  "kernelspec": {
   "display_name": "Python 3",
   "language": "python",
   "name": "python3"
  },
  "language_info": {
   "codemirror_mode": {
    "name": "ipython",
    "version": 3
   },
   "file_extension": ".py",
   "mimetype": "text/x-python",
   "name": "python",
   "nbconvert_exporter": "python",
   "pygments_lexer": "ipython3",
   "version": "3.8.11"
  }
 },
 "nbformat": 4,
 "nbformat_minor": 2
}
