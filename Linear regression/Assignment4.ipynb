{
 "cells": [
  {
   "cell_type": "markdown",
   "metadata": {},
   "source": [
    "# 线性判别分析"
   ]
  },
  {
   "cell_type": "markdown",
   "metadata": {},
   "source": [
    "## 实验内容\n",
    "1. 使用线性判别分析完成垃圾邮件分类问题和Dota2结果预测问题。\n",
    "2. 计算十折交叉验证下的精度(accuracy)，查准率(precision)，查全率(recall)，F1值。\n",
    "\n",
    "## 评测指标  \n",
    "1. 精度\n",
    "2. 查准率\n",
    "3. 查全率\n",
    "4. F1"
   ]
  },
  {
   "cell_type": "markdown",
   "metadata": {},
   "source": [
    "# 1. 读取数据"
   ]
  },
  {
   "cell_type": "code",
   "execution_count": 1,
   "metadata": {},
   "outputs": [],
   "source": [
    "import numpy as np"
   ]
  },
  {
   "cell_type": "code",
   "execution_count": 2,
   "metadata": {},
   "outputs": [],
   "source": [
    "spambase = np.loadtxt('data/spambase/spambase.data', delimiter = \",\")\n",
    "dota2results = np.loadtxt('data/dota2Dataset/dota2Train.csv', delimiter=',')"
   ]
  },
  {
   "cell_type": "markdown",
   "metadata": {},
   "source": [
    "# 2. 导入模型"
   ]
  },
  {
   "cell_type": "code",
   "execution_count": 3,
   "metadata": {},
   "outputs": [],
   "source": [
    "from sklearn.discriminant_analysis import LinearDiscriminantAnalysis\n",
    "from sklearn.metrics import accuracy_score\n",
    "from sklearn.metrics import precision_score\n",
    "from sklearn.metrics import recall_score\n",
    "from sklearn.metrics import f1_score\n",
    "from sklearn.model_selection import cross_val_predict"
   ]
  },
  {
   "cell_type": "markdown",
   "metadata": {},
   "source": [
    "# 3. 提取数据"
   ]
  },
  {
   "cell_type": "markdown",
   "metadata": {},
   "source": [
    "这里的spamx和dota2x包含了数据集内所有的特征"
   ]
  },
  {
   "cell_type": "code",
   "execution_count": 4,
   "metadata": {},
   "outputs": [],
   "source": [
    "spamx = spambase[:, :57]\n",
    "spamy = spambase[:, 57]\n",
    "\n",
    "dota2x = dota2results[:, 1:]\n",
    "dota2y = dota2results[:, 0]"
   ]
  },
  {
   "cell_type": "markdown",
   "metadata": {},
   "source": [
    "# 4. 训练"
   ]
  },
  {
   "cell_type": "markdown",
   "metadata": {},
   "source": [
    "请你完成两个模型使用全部特征的训练与预测，并将预测结果存储起来"
   ]
  },
  {
   "cell_type": "markdown",
   "metadata": {},
   "source": [
    "**注意：dota2数据集上，线性判别分析模型在训练的过程中会有警告出现，不会影响程序运行**"
   ]
  },
  {
   "cell_type": "code",
   "execution_count": 5,
   "metadata": {},
   "outputs": [],
   "source": [
    "# 训练与预测\n",
    "spam_model=LinearDiscriminantAnalysis()\n",
    "dota2_model=LinearDiscriminantAnalysis()\n",
    "\n",
    "# spam\n",
    "spam_prediction=cross_val_predict(spam_model, spamx, spamy, cv=10)\n",
    "\n",
    "# dota2\n",
    "dota2_prediction=cross_val_predict(dota2_model,dota2x,dota2y,cv=10)"
   ]
  },
  {
   "cell_type": "markdown",
   "metadata": {},
   "source": [
    "# 5. 评价指标的计算"
   ]
  },
  {
   "cell_type": "markdown",
   "metadata": {},
   "source": [
    "请你计算两个模型的四项指标"
   ]
  },
  {
   "cell_type": "code",
   "execution_count": 6,
   "metadata": {},
   "outputs": [
    {
     "name": "stdout",
     "output_type": "stream",
     "text": [
      "Spam:\n",
      " Accuracy: 0.8832862421212779 \n",
      "Precision: 0.9094993581514762 \n",
      "Recall: 0.7815774958632101 \n",
      "F1: 0.8407000889943637\n",
      "Dota2:\n",
      " Accuracy: 0.5986724230976794 \n",
      "Precision: 0.6066457034626064 \n",
      "Recall: 0.6762740355048994 \n",
      "F1: 0.6395703886083188\n"
     ]
    }
   ],
   "source": [
    "# spam\n",
    "spam_Acc = accuracy_score(spamy, spam_prediction)\n",
    "spam_Pre = precision_score(spamy, spam_prediction)\n",
    "spam_Recall = recall_score(spamy, spam_prediction)\n",
    "spam_F1 = f1_score(spamy, spam_prediction)\n",
    "print(\"Spam:\\n\",\"Accuracy:\",spam_Acc,\"\\nPrecision:\",spam_Pre,\"\\nRecall:\",spam_Recall,\"\\nF1:\",spam_F1)\n",
    "\n",
    "# dota2\n",
    "dota2_Acc = accuracy_score(dota2y, dota2_prediction)\n",
    "dota2_Pre = precision_score(dota2y, dota2_prediction)\n",
    "dota2_Recall = recall_score(dota2y, dota2_prediction)\n",
    "dota2_F1 = f1_score(dota2y, dota2_prediction)\n",
    "print(\"Dota2:\\n\",\"Accuracy:\",dota2_Acc,\"\\nPrecision:\",dota2_Pre,\"\\nRecall:\",dota2_Recall,\"\\nF1:\",dota2_F1)\n",
    "\n",
    "\n"
   ]
  },
  {
   "cell_type": "markdown",
   "metadata": {},
   "source": [
    "###### 双击此处填写\n",
    "\n",
    "数据集|精度|查准率|查全率|F1\n",
    "-|-|-|-|-\n",
    "spambase | 0.8832862421212779  | 0.9094993581514762 |0.7815774958632101 | 0.8407000889943637\n",
    "dota2Results | 0.5986724230976794  |0.6066457034626064  | 0.6762740355048994  | 0.6395703886083188"
   ]
  },
  {
   "cell_type": "markdown",
   "metadata": {},
   "source": [
    "# 6. 选做：尝试对特征进行变换、筛选、组合后，训练模型并计算十折交叉验证后的四项指标"
   ]
  },
  {
   "cell_type": "markdown",
   "metadata": {},
   "source": [
    "## 方差阈值过滤 VarianceThreshold"
   ]
  },
  {
   "cell_type": "markdown",
   "metadata": {},
   "source": [
    "### 模型1.1"
   ]
  },
  {
   "cell_type": "code",
   "execution_count": 7,
   "metadata": {},
   "outputs": [
    {
     "name": "stdout",
     "output_type": "stream",
     "text": [
      "过滤前特征个数： 57\n",
      "过滤后特征个数： 43\n"
     ]
    }
   ],
   "source": [
    "from sklearn.feature_selection import VarianceThreshold\n",
    "\n",
    "print(\"过滤前特征个数：\",spamx.shape[1])\n",
    "\n",
    "sel11 = VarianceThreshold(threshold=0.1)\n",
    "# 坑：注意筛选后数据的表达形式\n",
    "data_11=sel11.fit_transform(spamx)\n",
    "\n",
    "print(\"过滤后特征个数：\",data_11.shape[1])"
   ]
  },
  {
   "cell_type": "code",
   "execution_count": 8,
   "metadata": {},
   "outputs": [
    {
     "name": "stdout",
     "output_type": "stream",
     "text": [
      "Spam:\n",
      " Accuracy: 0.8739404477287546 \n",
      "Precision: 0.8944337811900192 \n",
      "Recall: 0.7710976282404853 \n",
      "F1: 0.8281990521327014\n"
     ]
    }
   ],
   "source": [
    "# spam\n",
    "spam_prediction11=cross_val_predict(spam_model, data_11, spamy, cv=10)\n",
    "\n",
    "spam_Acc = accuracy_score(spamy, spam_prediction11)\n",
    "spam_Pre = precision_score(spamy, spam_prediction11)\n",
    "spam_Recall = recall_score(spamy, spam_prediction11)\n",
    "spam_F1 = f1_score(spamy, spam_prediction11)\n",
    "print(\"Spam:\\n\",\"Accuracy:\",spam_Acc,\"\\nPrecision:\",spam_Pre,\"\\nRecall:\",spam_Recall,\"\\nF1:\",spam_F1)"
   ]
  },
  {
   "cell_type": "markdown",
   "metadata": {},
   "source": [
    "### 模型1.2"
   ]
  },
  {
   "cell_type": "code",
   "execution_count": 9,
   "metadata": {},
   "outputs": [
    {
     "name": "stdout",
     "output_type": "stream",
     "text": [
      "过滤前特征个数： 57\n",
      "过滤后特征个数： 17\n"
     ]
    }
   ],
   "source": [
    "print(\"过滤前特征个数：\",spamx.shape[1])\n",
    "\n",
    "sel12 = VarianceThreshold(threshold=0.5)\n",
    "# 坑：注意筛选后数据的表达形式\n",
    "data_12=sel12.fit_transform(spamx)\n",
    "\n",
    "print(\"过滤后特征个数：\",data_12.shape[1])"
   ]
  },
  {
   "cell_type": "code",
   "execution_count": 10,
   "metadata": {},
   "outputs": [
    {
     "name": "stdout",
     "output_type": "stream",
     "text": [
      "Spam:\n",
      " Accuracy: 0.8346011736579004 \n",
      "Precision: 0.8226993865030675 \n",
      "Recall: 0.7396580253723111 \n",
      "F1: 0.7789718268951495\n"
     ]
    }
   ],
   "source": [
    "# spam\n",
    "spam_prediction12=cross_val_predict(spam_model, data_12, spamy, cv=10)\n",
    "\n",
    "spam_Acc = accuracy_score(spamy, spam_prediction12)\n",
    "spam_Pre = precision_score(spamy, spam_prediction12)\n",
    "spam_Recall = recall_score(spamy, spam_prediction12)\n",
    "spam_F1 = f1_score(spamy, spam_prediction12)\n",
    "print(\"Spam:\\n\",\"Accuracy:\",spam_Acc,\"\\nPrecision:\",spam_Pre,\"\\nRecall:\",spam_Recall,\"\\nF1:\",spam_F1)\n"
   ]
  },
  {
   "cell_type": "markdown",
   "metadata": {},
   "source": [
    "### 模型2.1"
   ]
  },
  {
   "cell_type": "code",
   "execution_count": 11,
   "metadata": {},
   "outputs": [
    {
     "name": "stdout",
     "output_type": "stream",
     "text": [
      "过滤前特征个数： 116\n",
      "过滤后特征个数： 72\n"
     ]
    }
   ],
   "source": [
    "print(\"过滤前特征个数：\",dota2x.shape[1])\n",
    "\n",
    "sel21 = VarianceThreshold(threshold=0.05)\n",
    "# 坑：注意筛选后数据的表达形式\n",
    "data_21=sel21.fit_transform(dota2x)\n",
    "\n",
    "print(\"过滤后特征个数：\",data_21.shape[1])"
   ]
  },
  {
   "cell_type": "code",
   "execution_count": 12,
   "metadata": {},
   "outputs": [
    {
     "name": "stdout",
     "output_type": "stream",
     "text": [
      "Dota2:\n",
      " Accuracy: 0.5906853750674582 \n",
      "Precision: 0.59839437487541 \n",
      "Recall: 0.6768890164404904 \n",
      "F1: 0.6352259938632013\n"
     ]
    }
   ],
   "source": [
    "# dota2\n",
    "dota2_prediction21=cross_val_predict(dota2_model, data_21, dota2y, cv=10)\n",
    "\n",
    "dota2_Acc = accuracy_score(dota2y, dota2_prediction21)\n",
    "dota2_Pre = precision_score(dota2y, dota2_prediction21)\n",
    "dota2_Recall = recall_score(dota2y, dota2_prediction21)\n",
    "dota2_F1 = f1_score(dota2y, dota2_prediction21)\n",
    "print(\"Dota2:\\n\",\"Accuracy:\",dota2_Acc,\"\\nPrecision:\",dota2_Pre,\"\\nRecall:\",dota2_Recall,\"\\nF1:\",dota2_F1)"
   ]
  },
  {
   "cell_type": "markdown",
   "metadata": {},
   "source": [
    "### 模型2.2"
   ]
  },
  {
   "cell_type": "code",
   "execution_count": 13,
   "metadata": {},
   "outputs": [
    {
     "name": "stdout",
     "output_type": "stream",
     "text": [
      "过滤前特征个数： 116\n",
      "过滤后特征个数： 39\n"
     ]
    }
   ],
   "source": [
    "print(\"过滤前特征个数：\",dota2x.shape[1])\n",
    "\n",
    "sel22 = VarianceThreshold(threshold=0.1)\n",
    "# 坑：注意筛选后数据的表达形式\n",
    "data_22=sel22.fit_transform(dota2x)\n",
    "\n",
    "print(\"过滤后特征个数：\",data_22.shape[1])"
   ]
  },
  {
   "cell_type": "code",
   "execution_count": 14,
   "metadata": {},
   "outputs": [
    {
     "name": "stdout",
     "output_type": "stream",
     "text": [
      "Dota2:\n",
      " Accuracy: 0.566173772261198 \n",
      "Precision: 0.5733716082291026 \n",
      "Recall: 0.6878766758230495 \n",
      "F1: 0.6254263508098336\n"
     ]
    }
   ],
   "source": [
    "# dota2\n",
    "dota2_prediction22=cross_val_predict(dota2_model, data_22, dota2y, cv=10)\n",
    "\n",
    "dota2_Acc = accuracy_score(dota2y, dota2_prediction22)\n",
    "dota2_Pre = precision_score(dota2y, dota2_prediction22)\n",
    "dota2_Recall = recall_score(dota2y, dota2_prediction22)\n",
    "dota2_F1 = f1_score(dota2y, dota2_prediction22)\n",
    "print(\"Dota2:\\n\",\"Accuracy:\",dota2_Acc,\"\\nPrecision:\",dota2_Pre,\"\\nRecall:\",dota2_Recall,\"\\nF1:\",dota2_F1)"
   ]
  },
  {
   "cell_type": "markdown",
   "metadata": {},
   "source": [
    "###### 双击此处填写\n",
    "1. 模型1.1的处理流程：过滤掉spamx中方差小于0.1的特征\n",
    "2. 模型1.2的处理流程：过滤掉spamx中方差小于0.5的特征\n",
    "3. 模型2.1的处理流程: 过滤掉dota2x中方差小于0.05的特征\n",
    "4. 模型2.2的处理流程：过滤掉dota2x中方差小于0.1的特征\n",
    "\n",
    "模型|数据集|精度|查准率|查全率|F1\n",
    "-|-|-|-|-|-\n",
    "模型1.1| spamx | 0.8739404477287546  |0.8944337811900192  | 0.7710976282404853 | 0.8281990521327014\n",
    "模型1.2 | spamx | 0.8346011736579004  |  0.8226993865030675 | 0.7396580253723111 | 0.7789718268951495\n",
    "模型2.1 | dota2x | 0.5906853750674582 | 0.59839437487541  | 0.6768890164404904 |0.6352259938632013\n",
    "模型2.2|dota2x|0.566173772261198 |0.5733716082291026 |0.6878766758230495 |0.6254263508098336"
   ]
  }
 ],
 "metadata": {
  "interpreter": {
   "hash": "07efdcd4b820c98a756949507a4d29d7862823915ec7477944641bea022f4f62"
  },
  "kernelspec": {
   "display_name": "Python 3.8.11 64-bit ('base': conda)",
   "name": "python3"
  },
  "language_info": {
   "codemirror_mode": {
    "name": "ipython",
    "version": 3
   },
   "file_extension": ".py",
   "mimetype": "text/x-python",
   "name": "python",
   "nbconvert_exporter": "python",
   "pygments_lexer": "ipython3",
   "version": "3.8.11"
  },
  "toc": {
   "base_numbering": 1,
   "nav_menu": {},
   "number_sections": true,
   "sideBar": true,
   "skip_h1_title": false,
   "title_cell": "Table of Contents",
   "title_sidebar": "Contents",
   "toc_cell": false,
   "toc_position": {},
   "toc_section_display": true,
   "toc_window_display": false
  }
 },
 "nbformat": 4,
 "nbformat_minor": 2
}
