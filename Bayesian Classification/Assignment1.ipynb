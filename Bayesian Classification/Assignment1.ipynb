{
 "cells": [
  {
   "cell_type": "markdown",
   "metadata": {},
   "source": [
    "# 第一题：使用sklearn的GaussianNB、BernoulliNB、MultinomialNB完成spambase垃圾邮件分类任务\n",
    "\n",
    "实验内容：\n",
    "1. 使用GaussianNB、BernoulliNB、MultinomialNB完成spambase邮件分类\n",
    "2. 计算各自十折交叉验证的精度、查准率、查全率、F1值\n",
    "3. 根据精度、查准率、查全率、F1值的实际意义以及四个值的对比阐述三个算法在spambase中的表现对比"
   ]
  },
  {
   "cell_type": "markdown",
   "metadata": {},
   "source": [
    "# 1. 读取数据集"
   ]
  },
  {
   "cell_type": "code",
   "execution_count": 3,
   "metadata": {},
   "outputs": [],
   "source": [
    "import numpy as np\n",
    "spambase = np.loadtxt('spambase/spambase.data', delimiter = \",\")\n",
    "spamx = spambase[:, :57]\n",
    "spamy = spambase[:, 57]"
   ]
  },
  {
   "cell_type": "markdown",
   "metadata": {},
   "source": [
    "# 2. 导入模型"
   ]
  },
  {
   "cell_type": "code",
   "execution_count": 4,
   "metadata": {},
   "outputs": [],
   "source": [
    "from sklearn.naive_bayes import GaussianNB\n",
    "from sklearn.naive_bayes import MultinomialNB\n",
    "from sklearn.naive_bayes import BernoulliNB\n",
    "from sklearn.model_selection import cross_val_predict"
   ]
  },
  {
   "cell_type": "markdown",
   "metadata": {},
   "source": [
    "# 3. 计算十折交叉验证下，GaussianNB、BernoulliNB、MultinomialNB的精度、查准率、查全率、F1值"
   ]
  },
  {
   "cell_type": "code",
   "execution_count": 7,
   "metadata": {},
   "outputs": [],
   "source": [
    "# YOUR CODE HERE\n",
    "# 引入检验标准\n",
    "from sklearn.metrics import accuracy_score\n",
    "from sklearn.metrics import precision_score\n",
    "from sklearn.metrics import recall_score\n",
    "from sklearn.metrics import f1_score"
   ]
  },
  {
   "cell_type": "markdown",
   "metadata": {},
   "source": [
    "## GaussianNB"
   ]
  },
  {
   "cell_type": "code",
   "execution_count": 5,
   "metadata": {},
   "outputs": [],
   "source": [
    "model1 = GaussianNB()\n",
    "prediction1 = cross_val_predict(model1, spamx, spamy, cv=10)"
   ]
  },
  {
   "cell_type": "code",
   "execution_count": 10,
   "metadata": {},
   "outputs": [],
   "source": [
    "acc1 = accuracy_score(spamy, prediction1)\n",
    "pre1 = precision_score(spamy, prediction1)\n",
    "rec1 = recall_score(spamy, prediction1)\n",
    "f11 = f1_score(spamy, prediction1)"
   ]
  },
  {
   "cell_type": "code",
   "execution_count": 11,
   "metadata": {},
   "outputs": [
    {
     "name": "stdout",
     "output_type": "stream",
     "text": [
      "GaussianNB:\n",
      "accuracy_score: 0.8217778743751358 \n",
      "precision_score: 0.7004440855874041 \n",
      "recall_score: 0.9569773855488142 \n",
      "f1_score: 0.8088578088578089\n"
     ]
    }
   ],
   "source": [
    "print(\"GaussianNB:\\naccuracy_score:\",acc1,\"\\nprecision_score:\",pre1,\"\\nrecall_score:\",rec1,\"\\nf1_score:\",f11)"
   ]
  },
  {
   "cell_type": "markdown",
   "metadata": {},
   "source": [
    "## BernoulliNB"
   ]
  },
  {
   "cell_type": "code",
   "execution_count": 12,
   "metadata": {},
   "outputs": [],
   "source": [
    "model2 = BernoulliNB()\n",
    "prediction2 = cross_val_predict(model2, spamx, spamy, cv=10)"
   ]
  },
  {
   "cell_type": "code",
   "execution_count": 13,
   "metadata": {},
   "outputs": [],
   "source": [
    "acc2 = accuracy_score(spamy, prediction2)\n",
    "pre2 = precision_score(spamy, prediction2)\n",
    "rec2 = recall_score(spamy, prediction2)\n",
    "f12 = f1_score(spamy, prediction2)"
   ]
  },
  {
   "cell_type": "code",
   "execution_count": 14,
   "metadata": {},
   "outputs": [
    {
     "name": "stdout",
     "output_type": "stream",
     "text": [
      "BernoulliNB:\n",
      "accuracy_score: 0.8839382742881983 \n",
      "precision_score: 0.8813357185450209 \n",
      "recall_score: 0.815223386651958 \n",
      "f1_score: 0.8469914040114614\n"
     ]
    }
   ],
   "source": [
    "print(\"BernoulliNB:\\naccuracy_score:\",acc2,\"\\nprecision_score:\",pre2,\"\\nrecall_score:\",rec2,\"\\nf1_score:\",f12)"
   ]
  },
  {
   "cell_type": "markdown",
   "metadata": {},
   "source": [
    "## MultinomialNB"
   ]
  },
  {
   "cell_type": "code",
   "execution_count": 15,
   "metadata": {},
   "outputs": [],
   "source": [
    "model3 = MultinomialNB()\n",
    "prediction3 = cross_val_predict(model3, spamx, spamy, cv=10)"
   ]
  },
  {
   "cell_type": "code",
   "execution_count": 16,
   "metadata": {},
   "outputs": [],
   "source": [
    "acc3 = accuracy_score(spamy, prediction3)\n",
    "pre3 = precision_score(spamy, prediction3)\n",
    "rec3 = recall_score(spamy, prediction3)\n",
    "f13 = f1_score(spamy, prediction3)"
   ]
  },
  {
   "cell_type": "code",
   "execution_count": 17,
   "metadata": {},
   "outputs": [
    {
     "name": "stdout",
     "output_type": "stream",
     "text": [
      "MultinomialNB:\n",
      "accuracy_score: 0.786350793305803 \n",
      "precision_score: 0.7323628219484882 \n",
      "recall_score: 0.7214561500275786 \n",
      "f1_score: 0.7268685746040567\n"
     ]
    }
   ],
   "source": [
    "print(\"MultinomialNB:\\naccuracy_score:\",acc3,\"\\nprecision_score:\",pre3,\"\\nrecall_score:\",rec3,\"\\nf1_score:\",f13)"
   ]
  },
  {
   "cell_type": "markdown",
   "metadata": {},
   "source": [
    "###### 双击此处填写\n",
    "算法|精度|查准率|查全率|F1值\n",
    "-|-|-|-|-\n",
    "GaussianNB|0.8217778743751358 |0.7004440855874041|0.9569773855488142|0.8088578088578089\n",
    "BernoulliNB|0.8839382742881983 |0.8813357185450209 |0.815223386651958|0.8469914040114614\n",
    "MultinomialNB|0.786350793305803|0.7323628219484882|0.7214561500275786|0.7268685746040567"
   ]
  },
  {
   "cell_type": "markdown",
   "metadata": {},
   "source": [
    "分析如下：\n",
    "- 在精度、查准率、F1值3个评价准则上，**BernouliNB**均给出了最好的实验效果，综合效果最佳；\n",
    "- **GaussianNB**模型在查全率上给出了最佳95.7%的结果，做到了尽可能检测出所有的垃圾邮件（不在乎结果是否正确的情况下）。然而其检测的查准率最低；\n",
    "- **MultinomialNB**模型在精度、查全率、F1值3个检测标准上均给出了最低值，综合效果最差。"
   ]
  }
 ],
 "metadata": {
  "kernelspec": {
   "display_name": "Python 3",
   "language": "python",
   "name": "python3"
  },
  "language_info": {
   "codemirror_mode": {
    "name": "ipython",
    "version": 3
   },
   "file_extension": ".py",
   "mimetype": "text/x-python",
   "name": "python",
   "nbconvert_exporter": "python",
   "pygments_lexer": "ipython3",
   "version": "3.8.11"
  },
  "toc": {
   "base_numbering": 1,
   "nav_menu": {},
   "number_sections": true,
   "sideBar": true,
   "skip_h1_title": false,
   "title_cell": "Table of Contents",
   "title_sidebar": "Contents",
   "toc_cell": false,
   "toc_position": {},
   "toc_section_display": true,
   "toc_window_display": false
  }
 },
 "nbformat": 4,
 "nbformat_minor": 2
}
